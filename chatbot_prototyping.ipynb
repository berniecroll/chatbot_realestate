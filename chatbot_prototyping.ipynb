{
 "cells": [
  {
   "cell_type": "code",
   "execution_count": 232,
   "id": "cfd3577d",
   "metadata": {},
   "outputs": [],
   "source": [
    "from typing import Annotated, TypedDict\n",
    "from langgraph.graph import StateGraph, START, END, add_messages\n",
    "\n",
    "# When defining a graph, the first step is to define its State. \n",
    "# The State includes the graph's schema and reducer functions that handle state updates\n",
    "class State(TypedDict):\n",
    "    messages: Annotated[list, add_messages]\n",
    "\n",
    "graph_builder = StateGraph(State)"
   ]
  },
  {
   "cell_type": "code",
   "execution_count": 233,
   "id": "2d0f80b4",
   "metadata": {},
   "outputs": [],
   "source": [
    "import os\n",
    "from langchain.chat_models import init_chat_model\n",
    "with open('apikey.txt', mode='r') as file:\n",
    "    apikey = file.read()\n",
    "\n",
    "os.environ['OPENAI_API_KEY'] = apikey\n",
    "\n",
    "llm = init_chat_model(\n",
    "    model_provider = 'openai',\n",
    "    model = \"o4-mini\" #\"gpt-4.1-nano\"\n",
    ")"
   ]
  },
  {
   "cell_type": "code",
   "execution_count": 234,
   "id": "de792f93",
   "metadata": {},
   "outputs": [],
   "source": [
    "from langchain_core.tools import tool\n",
    "\n",
    "# create tool\n",
    "@tool\n",
    "def my_name() -> str:\n",
    "    \"\"\"Returns the name of the human user.\n",
    "    This tool should only be used if the human user asks the AI what their name is.\n",
    "    If AI does not know the answer, then the AI should say they do not know.\"\"\"\n",
    "    return 'Bernie'\n",
    "\n",
    "def num_homes_for_rent_in_Sydney() -> int:\n",
    "    \"\"\"Returns the number of available homes for rent in Sydney\n",
    "    This tool should only be used if the human user asks the AI what the number of homes for rent is in Sydney.\n",
    "    If AI does not know the answer, then the AI should say they do not know.\"\"\"\n",
    "    return 10\n",
    "\n",
    "tools=[my_name, num_homes_for_rent_in_Sydney]\n",
    "llm = llm.bind_tools(tools)\n"
   ]
  },
  {
   "cell_type": "code",
   "execution_count": 235,
   "id": "0c0cfa19",
   "metadata": {},
   "outputs": [
    {
     "data": {
      "text/plain": [
       "<langgraph.graph.state.StateGraph at 0x1112e6450>"
      ]
     },
     "execution_count": 235,
     "metadata": {},
     "output_type": "execute_result"
    }
   ],
   "source": [
    "def chatbot(graphState: State) -> State:\n",
    "    update = {'messages' : [llm.invoke(graphState['messages'])]}\n",
    "    return update\n",
    "\n",
    "graph_builder.add_node('chatbot', chatbot)"
   ]
  },
  {
   "cell_type": "code",
   "execution_count": 236,
   "id": "e0576f22",
   "metadata": {},
   "outputs": [
    {
     "data": {
      "text/plain": [
       "<langgraph.graph.state.StateGraph at 0x1112e6450>"
      ]
     },
     "execution_count": 236,
     "metadata": {},
     "output_type": "execute_result"
    }
   ],
   "source": [
    "graph_builder.add_edge(START, 'chatbot')\n",
    "#compiled_graph = graph_builder.compile()"
   ]
  },
  {
   "cell_type": "code",
   "execution_count": 237,
   "id": "d8a070f3",
   "metadata": {},
   "outputs": [],
   "source": [
    "from IPython.display import Image, display\n",
    "from langgraph.graph import StateGraph\n",
    "\n",
    "def display_graph(compiledGraph):\n",
    "    \"\"\"Displays a given compiled graph\"\"\"\n",
    "    display(Image(compiledGraph.get_graph().draw_mermaid_png()))"
   ]
  },
  {
   "cell_type": "code",
   "execution_count": 238,
   "id": "fd988562",
   "metadata": {},
   "outputs": [],
   "source": [
    "# interactive chatbot but no memory\n",
    "# input = 'what is my name?'\n",
    "# for event in compiled_graph.stream({\"messages\": [{\"role\": \"user\", \"content\": input}]}):\n",
    "#     print(event)\n",
    "#     for i, value in enumerate(event.values()):\n",
    "#         print(i)\n",
    "#         print(value['messages'])\n",
    "#         print(\"Assistant:\", value[\"messages\"][-1].content)\n",
    "\n"
   ]
  },
  {
   "cell_type": "code",
   "execution_count": 239,
   "id": "5cc240e3",
   "metadata": {},
   "outputs": [
    {
     "data": {
      "text/plain": [
       "<langgraph.graph.state.StateGraph at 0x1112e6450>"
      ]
     },
     "execution_count": 239,
     "metadata": {},
     "output_type": "execute_result"
    }
   ],
   "source": [
    "from langgraph.prebuilt import ToolNode\n",
    "\n",
    "tool_node = ToolNode(tools=tools)\n",
    "graph_builder.add_node(\"tool_node\", tool_node)"
   ]
  },
  {
   "cell_type": "code",
   "execution_count": 240,
   "id": "d874d394",
   "metadata": {},
   "outputs": [
    {
     "data": {
      "text/plain": [
       "<langgraph.graph.state.StateGraph at 0x1112e6450>"
      ]
     },
     "execution_count": 240,
     "metadata": {},
     "output_type": "execute_result"
    }
   ],
   "source": [
    "from langgraph.prebuilt import tools_condition\n",
    "# add conditional edge\n",
    "graph_builder.add_conditional_edges(\n",
    "    'chatbot', # source\n",
    "    tools_condition,\n",
    "    path_map = {\n",
    "        'tools' : 'tool_node', \n",
    "        END: END\n",
    "    }\n",
    ")"
   ]
  },
  {
   "cell_type": "code",
   "execution_count": 241,
   "id": "bbcfcdda",
   "metadata": {},
   "outputs": [
    {
     "data": {
      "text/plain": [
       "<langgraph.graph.state.StateGraph at 0x1112e6450>"
      ]
     },
     "execution_count": 241,
     "metadata": {},
     "output_type": "execute_result"
    }
   ],
   "source": [
    "graph_builder.add_edge('tool_node', 'chatbot')"
   ]
  },
  {
   "cell_type": "code",
   "execution_count": 242,
   "id": "7ea18c93",
   "metadata": {},
   "outputs": [],
   "source": [
    "compiled_graph = graph_builder.compile()"
   ]
  },
  {
   "cell_type": "code",
   "execution_count": 243,
   "id": "4ce08253",
   "metadata": {},
   "outputs": [
    {
     "data": {
      "image/png": "[encoded data removed]",
      "text/plain": [
       "<IPython.core.display.Image object>"
      ]
     },
     "metadata": {},
     "output_type": "display_data"
    }
   ],
   "source": [
    "display_graph(compiled_graph)"
   ]
  },
  {
   "cell_type": "code",
   "execution_count": 245,
   "id": "cea3a7ca",
   "metadata": {},
   "outputs": [
    {
     "name": "stdout",
     "output_type": "stream",
     "text": [
      "User: Hello chatbot\n",
      "Assistant: Hello! How can I assist you today?\n",
      "User: what is my name?\n",
      "Assistant: \n",
      "Assistant: Bernie\n",
      "Assistant: Your name is Bernie.\n",
      "User: how many homes are their in Sydney to rent?\n",
      "Assistant: \n",
      "Assistant: 10\n",
      "Assistant: There are currently 10 homes available for rent in Sydney.\n",
      "User: q\n",
      "chatbot end\n"
     ]
    }
   ],
   "source": [
    "while True:\n",
    "    user_input = input('Prompt: ')\n",
    "    print(f'User: {user_input}')\n",
    "    if user_input in ['q', 'quit']:\n",
    "        print('chatbot end')\n",
    "        break\n",
    "\n",
    "    for event in compiled_graph.stream(input = {'messages': [{'role' : 'user', 'content' : f'{user_input}'}]}):\n",
    "        for value in event.values():\n",
    "            print(f'Assistant: {value['messages'][-1].content}')\n"
   ]
  },
  {
   "cell_type": "code",
   "execution_count": null,
   "id": "24a305b1",
   "metadata": {},
   "outputs": [],
   "source": []
  }
 ],
 "metadata": {
  "kernelspec": {
   "display_name": "chatbot_venv",
   "language": "python",
   "name": "python3"
  },
  "language_info": {
   "codemirror_mode": {
    "name": "ipython",
    "version": 3
   },
   "file_extension": ".py",
   "mimetype": "text/x-python",
   "name": "python",
   "nbconvert_exporter": "python",
   "pygments_lexer": "ipython3",
   "version": "3.12.10"
  }
 },
 "nbformat": 4,
 "nbformat_minor": 5
}
